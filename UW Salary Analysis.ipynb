{
 "cells": [
  {
   "cell_type": "markdown",
   "id": "a47cda30",
   "metadata": {},
   "source": [
    "# Analysis of University of Waterloo Salaries\n",
    "#### Publicaly Disclosed 2021 Figures (only salaries above $100,000)\n",
    "### By: Nick Tiliakos"
   ]
  },
  {
   "cell_type": "code",
   "execution_count": 1,
   "id": "12a413da",
   "metadata": {},
   "outputs": [],
   "source": [
    "import numpy as np\n",
    "import pandas as pd\n",
    "import matplotlib.pyplot as plt\n",
    "import pickle\n",
    "import seaborn as sns\n",
    "import plotly.express as px\n",
    "from scipy.stats import iqr"
   ]
  },
  {
   "cell_type": "code",
   "execution_count": null,
   "id": "7e9a7aad",
   "metadata": {},
   "outputs": [],
   "source": [
    "data = pd.read_csv('/Users/NickT/Documents/Data Science/Datasets/UW_Sal_Dis_2021 - Sheet1.csv')\n",
    "df = pd.DataFrame(data)"
   ]
  },
  {
   "cell_type": "code",
   "execution_count": null,
   "id": "69814db1",
   "metadata": {},
   "outputs": [],
   "source": [
    "df.head()"
   ]
  },
  {
   "cell_type": "code",
   "execution_count": null,
   "id": "1b743185",
   "metadata": {},
   "outputs": [],
   "source": [
    "df.describe()"
   ]
  },
  {
   "cell_type": "code",
   "execution_count": null,
   "id": "ace3cdd1",
   "metadata": {},
   "outputs": [],
   "source": [
    "df.dtypes"
   ]
  },
  {
   "cell_type": "code",
   "execution_count": null,
   "id": "2a2a6c52",
   "metadata": {
    "scrolled": true
   },
   "outputs": [],
   "source": [
    "print(df.shape)"
   ]
  },
  {
   "cell_type": "markdown",
   "id": "85304582",
   "metadata": {},
   "source": [
    "## Basic data cleaning "
   ]
  },
  {
   "cell_type": "markdown",
   "id": "d9a8dad0",
   "metadata": {},
   "source": [
    "Since this dataset is an official salary disclosure and the source was the University of Waterloo directly, the data is already fairly clean (ie. no missing data, etc.). Thus, the cleaning that needs to be done will consist of renaming columns and changing data types. "
   ]
  },
  {
   "cell_type": "markdown",
   "id": "0e536ab9",
   "metadata": {},
   "source": [
    "### Changing some column names"
   ]
  },
  {
   "cell_type": "code",
   "execution_count": null,
   "id": "0c74c8d4",
   "metadata": {},
   "outputs": [],
   "source": [
    "for col in df.columns:\n",
    "    print(col)"
   ]
  },
  {
   "cell_type": "code",
   "execution_count": null,
   "id": "55071533",
   "metadata": {},
   "outputs": [],
   "source": [
    "df = df.rename(columns = {'Given name': 'First Name'})\n",
    "df = df.rename(columns = {'Salary paid': 'Salary'})"
   ]
  },
  {
   "cell_type": "markdown",
   "id": "888e2b86",
   "metadata": {},
   "source": [
    "### Changing data type of 'Salary' column"
   ]
  },
  {
   "cell_type": "code",
   "execution_count": null,
   "id": "bd206e87",
   "metadata": {},
   "outputs": [],
   "source": [
    "# Delete commas from salary column\n",
    "df['Salary'] = df['Salary'].apply(lambda x: x.replace(',', ''))"
   ]
  },
  {
   "cell_type": "code",
   "execution_count": null,
   "id": "515ad558",
   "metadata": {
    "scrolled": true
   },
   "outputs": [],
   "source": [
    "# Convert Salary column from string to numeric values \n",
    "df['Salary'] = df['Salary'].apply(pd.to_numeric)"
   ]
  },
  {
   "cell_type": "code",
   "execution_count": null,
   "id": "7e4b773f",
   "metadata": {
    "scrolled": true
   },
   "outputs": [],
   "source": [
    "df.dtypes"
   ]
  },
  {
   "cell_type": "markdown",
   "id": "81736021",
   "metadata": {},
   "source": [
    "## Exploration of the data"
   ]
  },
  {
   "cell_type": "markdown",
   "id": "1f2f38d3",
   "metadata": {},
   "source": [
    "For comparison's sake, here are the average earning figures of  Canadians, before taxes:"
   ]
  },
  {
   "cell_type": "markdown",
   "id": "e36fa341",
   "metadata": {},
   "source": [
    "The average salary of a Canadian federal employee is $79,206. (1)"
   ]
  },
  {
   "cell_type": "markdown",
   "id": "4543b982",
   "metadata": {},
   "source": [
    "The average salary of a Canadian worker is $55,522. (2)"
   ]
  },
  {
   "cell_type": "markdown",
   "id": "16cbcf1a",
   "metadata": {},
   "source": [
    "Sources: (1) payscale.com, (2) glassdoor.ca"
   ]
  },
  {
   "cell_type": "markdown",
   "id": "e9f4996e",
   "metadata": {},
   "source": [
    "### Salary Information"
   ]
  },
  {
   "cell_type": "code",
   "execution_count": null,
   "id": "9cc6ef61",
   "metadata": {},
   "outputs": [],
   "source": [
    "# Maximum salary\n",
    "\n",
    "max_sal = df.loc[df['Salary'].idxmax()]\n",
    "print(max_sal)"
   ]
  },
  {
   "cell_type": "markdown",
   "id": "605c1f2d",
   "metadata": {},
   "source": [
    "The highest salary was $475,761.11 and it was paid to the (then) President, Hamdullahpur Feridun. "
   ]
  },
  {
   "cell_type": "markdown",
   "id": "e1d2e335",
   "metadata": {},
   "source": [
    "This is roughly 601% higher than the national average for a federal employee, and 857% higher than the average Canadian worker."
   ]
  },
  {
   "cell_type": "code",
   "execution_count": null,
   "id": "4d362f69",
   "metadata": {},
   "outputs": [],
   "source": [
    "# Minumum salary\n",
    "\n",
    "min_sal = df.loc[df['Salary'].idxmin()]\n",
    "print(min_sal)"
   ]
  },
  {
   "cell_type": "markdown",
   "id": "0c4cc807",
   "metadata": {},
   "source": [
    "The lowest salary was $100,000.08 and it was paid to the Senior Manager of Scientific Outreach, John M. Donohue."
   ]
  },
  {
   "cell_type": "markdown",
   "id": "f9641a63",
   "metadata": {},
   "source": [
    "This is roughly 126% higher than the national average for a federal employee, and 180% higher than the aberage Canadian worker."
   ]
  },
  {
   "cell_type": "code",
   "execution_count": null,
   "id": "3dc30865",
   "metadata": {},
   "outputs": [],
   "source": [
    "# Average & median salary\n",
    "\n",
    "avg_sal = round(df.Salary.mean(), 2)\n",
    "med_sal = round(df.Salary.median(), 2)\n",
    "print(\"Average salary: \", avg_sal)\n",
    "print(\"Median salary: \", med_sal)"
   ]
  },
  {
   "cell_type": "markdown",
   "id": "a9f02d26",
   "metadata": {},
   "source": [
    "The average salary of University of Waterloo employees is $158,976.28."
   ]
  },
  {
   "cell_type": "markdown",
   "id": "4f20cf93",
   "metadata": {},
   "source": [
    "This is roughly 201% higher than federal employees and 286% higher than the average Canadian worker."
   ]
  },
  {
   "cell_type": "code",
   "execution_count": null,
   "id": "bf71acfa",
   "metadata": {},
   "outputs": [],
   "source": [
    "# Salary range\n",
    "mxm = df.Salary.max()\n",
    "minm = df.Salary.min()\n",
    "\n",
    "sal_range = round(mxm - minm, 2)\n",
    "\n",
    "print(\"The salaries have a range of $\", sal_range)"
   ]
  },
  {
   "cell_type": "markdown",
   "id": "77287c04",
   "metadata": {},
   "source": [
    "#### Interquartile Range"
   ]
  },
  {
   "cell_type": "markdown",
   "id": "47c4d1aa",
   "metadata": {},
   "source": [
    "The IQR measures the spread of the middle half of your data. It is the difference between the 75th and 25th percentiles of the salaries. "
   ]
  },
  {
   "cell_type": "code",
   "execution_count": null,
   "id": "dc100b19",
   "metadata": {
    "scrolled": true
   },
   "outputs": [],
   "source": [
    "iqr_sal = iqr(df['Salary'])\n",
    "print('The interquartile range is: ', iqr_sal)"
   ]
  },
  {
   "cell_type": "markdown",
   "id": "712d7b99",
   "metadata": {},
   "source": [
    "#### Positions"
   ]
  },
  {
   "cell_type": "code",
   "execution_count": null,
   "id": "3536be7f",
   "metadata": {
    "scrolled": true
   },
   "outputs": [],
   "source": [
    "print(\"There are\", df['Position title'].nunique(), \n",
    "      \"different positions at the University of Waterloo. \\\n",
    "        It is important to note that many of these positions may overlap.\")"
   ]
  },
  {
   "cell_type": "code",
   "execution_count": null,
   "id": "c0a0b839",
   "metadata": {},
   "outputs": [],
   "source": [
    "# New dataframe consisting of only teaching staff with the titles \n",
    "# Lecturer, Professor, Associate Professor, Researcher, Instructor or similar.\n",
    "df_profs = df[df['Position title'].str.contains('Lecturer|Professor|Research|Instructor')]\n",
    "df_profs.shape"
   ]
  },
  {
   "cell_type": "markdown",
   "id": "f3778792",
   "metadata": {},
   "source": [
    "Of the 1856 staff that make $100,000 or above, 1356 are primarily teaching staff, with titles including Researcher, Lecturer, Professor, Associate Professor, Instructor or similar."
   ]
  },
  {
   "cell_type": "code",
   "execution_count": null,
   "id": "a9e920be",
   "metadata": {},
   "outputs": [],
   "source": [
    "# Non-teaching staff dataframe\n",
    "df_nt = pd.concat([df, df_profs, df_profs]).drop_duplicates(keep=False)\n",
    "df_nt.head()"
   ]
  },
  {
   "cell_type": "markdown",
   "id": "d19630ef",
   "metadata": {},
   "source": [
    "### Visualization of data"
   ]
  },
  {
   "cell_type": "code",
   "execution_count": null,
   "id": "e8255af0",
   "metadata": {},
   "outputs": [],
   "source": [
    "sns.heatmap(df.corr(), annot=True)"
   ]
  },
  {
   "cell_type": "markdown",
   "id": "0758b558",
   "metadata": {},
   "source": [
    "#### Histogram to Show Distribution"
   ]
  },
  {
   "cell_type": "code",
   "execution_count": null,
   "id": "f654616d",
   "metadata": {
    "scrolled": false
   },
   "outputs": [],
   "source": [
    "px.histogram(df.Salary, x='Salary',\n",
    "             color_discrete_sequence=['darkgreen'],\n",
    "             title = 'Overall Salary Distribution', nbins=120)"
   ]
  },
  {
   "cell_type": "markdown",
   "id": "97749eb1",
   "metadata": {},
   "source": [
    "As we can see from the plot above, the majority of salaries fall in the `$100,000 to $227,500` range. "
   ]
  },
  {
   "cell_type": "markdown",
   "id": "662b6c8a",
   "metadata": {},
   "source": [
    "#### Teaching vs Non-Teaching Staff Salaries\n"
   ]
  },
  {
   "cell_type": "code",
   "execution_count": null,
   "id": "6a504cce",
   "metadata": {},
   "outputs": [],
   "source": [
    "plt.hist(df_profs['Salary'], alpha=0.7,\n",
    "         label='Teaching Staff Salaries', color='crimson', bins=40)\n",
    "plt.hist(df_nt['Salary'], alpha=0.6,\n",
    "         label='Non-Teaching Staff Salaries', color='cadetblue', bins=40)\n",
    "\n",
    "plt.legend(loc='upper right')\n",
    "plt.title('Teaching vs Non-Teaching Staff Salaries')"
   ]
  },
  {
   "cell_type": "code",
   "execution_count": null,
   "id": "1af89a50",
   "metadata": {},
   "outputs": [],
   "source": [
    "prof_avg = round(df_profs.Salary.mean(), 2)\n",
    "prof_std = round(df_profs['Salary'].std(), 2)\n",
    "iqr_profs = iqr(df_profs['Salary'])\n",
    "nt_avg = round(df_nt.Salary.mean(), 2)\n",
    "nt_std = round(df_nt['Salary'].std(), 2)\n",
    "iqr_nt = round(iqr(df_nt['Salary']), 2)\n",
    "\n",
    "print(\"Teaching Staff Average Salary: \", avg_sal)\n",
    "print(\"Teaching Staff Standard Deviation:\", prof_std)\n",
    "print('Teaching Staff Interquartile Range: ', iqr_sal2)\n",
    "print()\n",
    "print(\"Non-Teaching Staff Average Salary: \", nt_avg)\n",
    "print(\"Non-Teaching Staff Standard Deviation:\", nt_std)\n",
    "print('Non-Teaching Staff Interquartile Range: ', iqr_sal1)"
   ]
  },
  {
   "cell_type": "markdown",
   "id": "b7dcd5d6",
   "metadata": {},
   "source": [
    "The standard deviation of the teaching and non-teaching staff is somewhat similar. \n",
    "However, the interquartile range is very different. This means that salaries for teaching staff is far more spread out than those for non-teaching staff, and as we can see from the $30,000+ difference in the average salary, that spreading out is mostly in the higher numbers."
   ]
  }
 ],
 "metadata": {
  "kernelspec": {
   "display_name": "Python 3",
   "language": "python",
   "name": "python3"
  },
  "language_info": {
   "codemirror_mode": {
    "name": "ipython",
    "version": 3
   },
   "file_extension": ".py",
   "mimetype": "text/x-python",
   "name": "python",
   "nbconvert_exporter": "python",
   "pygments_lexer": "ipython3",
   "version": "3.8.5"
  },
  "vscode": {
   "interpreter": {
    "hash": "40d3a090f54c6569ab1632332b64b2c03c39dcf918b08424e98f38b5ae0af88f"
   }
  }
 },
 "nbformat": 4,
 "nbformat_minor": 5
}
