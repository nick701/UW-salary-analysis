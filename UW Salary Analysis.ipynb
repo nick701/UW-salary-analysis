{
 "cells": [
  {
   "cell_type": "markdown",
   "id": "a47cda30",
   "metadata": {},
   "source": [
    "# Analysis of University of Waterloo Salaries\n",
    "#### Publicaly Disclosed 2021 Figures (only salaries above $100,000)\n",
    "### By: Nick Tiliakos"
   ]
  },
  {
   "cell_type": "code",
   "execution_count": 447,
   "id": "12a413da",
   "metadata": {},
   "outputs": [],
   "source": [
    "import numpy as np\n",
    "import pandas as pd\n",
    "import matplotlib.pyplot as plt\n",
    "import pickle\n",
    "import seaborn as sns\n",
    "import plotly.express as px\n",
    "from scipy.stats import iqr"
   ]
  },
  {
   "cell_type": "code",
   "execution_count": 448,
   "id": "7e9a7aad",
   "metadata": {},
   "outputs": [],
   "source": [
    "data = pd.read_csv('/Users/NickT/Documents/Projects/Datasets/UW_Sal_Dis_2021 - Sheet1.csv')\n",
    "df = pd.DataFrame(data)"
   ]
  },
  {
   "cell_type": "code",
   "execution_count": 449,
   "id": "69814db1",
   "metadata": {},
   "outputs": [
    {
     "data": {
      "text/html": [
       "<div>\n",
       "<style scoped>\n",
       "    .dataframe tbody tr th:only-of-type {\n",
       "        vertical-align: middle;\n",
       "    }\n",
       "\n",
       "    .dataframe tbody tr th {\n",
       "        vertical-align: top;\n",
       "    }\n",
       "\n",
       "    .dataframe thead th {\n",
       "        text-align: right;\n",
       "    }\n",
       "</style>\n",
       "<table border=\"1\" class=\"dataframe\">\n",
       "  <thead>\n",
       "    <tr style=\"text-align: right;\">\n",
       "      <th></th>\n",
       "      <th>Surname</th>\n",
       "      <th>Given name</th>\n",
       "      <th>Position title</th>\n",
       "      <th>Salary paid</th>\n",
       "      <th>Taxable Benefits</th>\n",
       "    </tr>\n",
       "  </thead>\n",
       "  <tbody>\n",
       "    <tr>\n",
       "      <th>0</th>\n",
       "      <td>AAFER</td>\n",
       "      <td>YOUSRA</td>\n",
       "      <td>Assistant Professor</td>\n",
       "      <td>154,146.48</td>\n",
       "      <td>166.92</td>\n",
       "    </tr>\n",
       "    <tr>\n",
       "      <th>1</th>\n",
       "      <td>AAGAARD</td>\n",
       "      <td>MARK</td>\n",
       "      <td>Associate Professor</td>\n",
       "      <td>144,188.61</td>\n",
       "      <td>399.51</td>\n",
       "    </tr>\n",
       "    <tr>\n",
       "      <th>2</th>\n",
       "      <td>ABDEL-RAHMAN</td>\n",
       "      <td>EIHAB</td>\n",
       "      <td>Professor</td>\n",
       "      <td>206,339.68</td>\n",
       "      <td>228.04</td>\n",
       "    </tr>\n",
       "    <tr>\n",
       "      <th>3</th>\n",
       "      <td>ABEDI</td>\n",
       "      <td>ALI</td>\n",
       "      <td>Lecturer</td>\n",
       "      <td>106,701.64</td>\n",
       "      <td>289.04</td>\n",
       "    </tr>\n",
       "    <tr>\n",
       "      <th>4</th>\n",
       "      <td>ABEYWARDENA</td>\n",
       "      <td>ISHAN S.</td>\n",
       "      <td>Associate Director, Systems</td>\n",
       "      <td>130,083.13</td>\n",
       "      <td>352.16</td>\n",
       "    </tr>\n",
       "  </tbody>\n",
       "</table>\n",
       "</div>"
      ],
      "text/plain": [
       "        Surname Given name               Position title Salary paid  \\\n",
       "0         AAFER     YOUSRA          Assistant Professor  154,146.48   \n",
       "1       AAGAARD       MARK          Associate Professor  144,188.61   \n",
       "2  ABDEL-RAHMAN      EIHAB                    Professor  206,339.68   \n",
       "3         ABEDI        ALI                     Lecturer  106,701.64   \n",
       "4   ABEYWARDENA   ISHAN S.  Associate Director, Systems  130,083.13   \n",
       "\n",
       "   Taxable Benefits  \n",
       "0            166.92  \n",
       "1            399.51  \n",
       "2            228.04  \n",
       "3            289.04  \n",
       "4            352.16  "
      ]
     },
     "execution_count": 449,
     "metadata": {},
     "output_type": "execute_result"
    }
   ],
   "source": [
    "df.head()"
   ]
  },
  {
   "cell_type": "code",
   "execution_count": 450,
   "id": "1b743185",
   "metadata": {},
   "outputs": [
    {
     "data": {
      "text/html": [
       "<div>\n",
       "<style scoped>\n",
       "    .dataframe tbody tr th:only-of-type {\n",
       "        vertical-align: middle;\n",
       "    }\n",
       "\n",
       "    .dataframe tbody tr th {\n",
       "        vertical-align: top;\n",
       "    }\n",
       "\n",
       "    .dataframe thead th {\n",
       "        text-align: right;\n",
       "    }\n",
       "</style>\n",
       "<table border=\"1\" class=\"dataframe\">\n",
       "  <thead>\n",
       "    <tr style=\"text-align: right;\">\n",
       "      <th></th>\n",
       "      <th>Taxable Benefits</th>\n",
       "    </tr>\n",
       "  </thead>\n",
       "  <tbody>\n",
       "    <tr>\n",
       "      <th>count</th>\n",
       "      <td>1856.000000</td>\n",
       "    </tr>\n",
       "    <tr>\n",
       "      <th>mean</th>\n",
       "      <td>312.776972</td>\n",
       "    </tr>\n",
       "    <tr>\n",
       "      <th>std</th>\n",
       "      <td>351.079040</td>\n",
       "    </tr>\n",
       "    <tr>\n",
       "      <th>min</th>\n",
       "      <td>0.000000</td>\n",
       "    </tr>\n",
       "    <tr>\n",
       "      <th>25%</th>\n",
       "      <td>164.390000</td>\n",
       "    </tr>\n",
       "    <tr>\n",
       "      <th>50%</th>\n",
       "      <td>274.720000</td>\n",
       "    </tr>\n",
       "    <tr>\n",
       "      <th>75%</th>\n",
       "      <td>429.945000</td>\n",
       "    </tr>\n",
       "    <tr>\n",
       "      <th>max</th>\n",
       "      <td>10482.520000</td>\n",
       "    </tr>\n",
       "  </tbody>\n",
       "</table>\n",
       "</div>"
      ],
      "text/plain": [
       "       Taxable Benefits\n",
       "count       1856.000000\n",
       "mean         312.776972\n",
       "std          351.079040\n",
       "min            0.000000\n",
       "25%          164.390000\n",
       "50%          274.720000\n",
       "75%          429.945000\n",
       "max        10482.520000"
      ]
     },
     "execution_count": 450,
     "metadata": {},
     "output_type": "execute_result"
    }
   ],
   "source": [
    "df.describe()"
   ]
  },
  {
   "cell_type": "code",
   "execution_count": 451,
   "id": "ace3cdd1",
   "metadata": {},
   "outputs": [
    {
     "data": {
      "text/plain": [
       "Surname              object\n",
       "Given name           object\n",
       "Position title       object\n",
       "Salary paid          object\n",
       "Taxable Benefits    float64\n",
       "dtype: object"
      ]
     },
     "execution_count": 451,
     "metadata": {},
     "output_type": "execute_result"
    }
   ],
   "source": [
    "df.dtypes"
   ]
  },
  {
   "cell_type": "code",
   "execution_count": 452,
   "id": "2a2a6c52",
   "metadata": {
    "scrolled": true
   },
   "outputs": [
    {
     "name": "stdout",
     "output_type": "stream",
     "text": [
      "(1856, 5)\n"
     ]
    }
   ],
   "source": [
    "print(df.shape)"
   ]
  },
  {
   "cell_type": "markdown",
   "id": "85304582",
   "metadata": {},
   "source": [
    "## Basic data cleaning "
   ]
  },
  {
   "cell_type": "markdown",
   "id": "d9a8dad0",
   "metadata": {},
   "source": [
    "Since this dataset is an official salary disclosure and the source was the University of Waterloo directly, the data is already fairly clean (ie. no missing data, etc.). Thus, the cleaning that needs to be done will consist of renaming columns and changing data types. "
   ]
  },
  {
   "cell_type": "markdown",
   "id": "0e536ab9",
   "metadata": {},
   "source": [
    "### Changing some column names"
   ]
  },
  {
   "cell_type": "code",
   "execution_count": 453,
   "id": "0c74c8d4",
   "metadata": {},
   "outputs": [
    {
     "name": "stdout",
     "output_type": "stream",
     "text": [
      "Surname\n",
      "Given name\n",
      "Position title\n",
      "Salary paid\n",
      "Taxable Benefits\n"
     ]
    }
   ],
   "source": [
    "for col in df.columns:\n",
    "    print(col)"
   ]
  },
  {
   "cell_type": "code",
   "execution_count": 454,
   "id": "55071533",
   "metadata": {},
   "outputs": [],
   "source": [
    "df = df.rename(columns = {'Given name': 'First Name'})\n",
    "df = df.rename(columns = {'Salary paid': 'Salary'})\n",
    "df = df.rename(columns = {'Position title': 'Position Title'})"
   ]
  },
  {
   "cell_type": "code",
   "execution_count": 455,
   "id": "bd206e87",
   "metadata": {},
   "outputs": [],
   "source": [
    "# Delete commas from salary column\n",
    "df['Salary'] = df['Salary'].apply(lambda x: x.replace(',', ''))"
   ]
  },
  {
   "cell_type": "code",
   "execution_count": 456,
   "id": "515ad558",
   "metadata": {
    "scrolled": true
   },
   "outputs": [],
   "source": [
    "# Convert Salary column from string to numeric values \n",
    "df['Salary'] = df['Salary'].apply(pd.to_numeric)"
   ]
  },
  {
   "cell_type": "code",
   "execution_count": 457,
   "id": "7e4b773f",
   "metadata": {
    "scrolled": true
   },
   "outputs": [
    {
     "data": {
      "text/plain": [
       "Surname              object\n",
       "First Name           object\n",
       "Position Title       object\n",
       "Salary              float64\n",
       "Taxable Benefits    float64\n",
       "dtype: object"
      ]
     },
     "execution_count": 457,
     "metadata": {},
     "output_type": "execute_result"
    }
   ],
   "source": [
    "df.dtypes"
   ]
  },
  {
   "cell_type": "markdown",
   "id": "81736021",
   "metadata": {},
   "source": [
    "## Exploration of the data"
   ]
  },
  {
   "cell_type": "markdown",
   "id": "1f2f38d3",
   "metadata": {},
   "source": [
    "For comparison's sake, here are the average earning figures of  Canadians, before taxes:\n",
    "- The average salary of a Canadian federal employee is $79,206. (1)\n",
    "- The average salary of a Canadian worker is $55,522. (2)\n",
    "\n",
    "Sources: (1) payscale.com, (2) glassdoor.ca"
   ]
  },
  {
   "cell_type": "markdown",
   "id": "e9f4996e",
   "metadata": {},
   "source": [
    "### Salary Information"
   ]
  },
  {
   "cell_type": "code",
   "execution_count": 458,
   "id": "9cc6ef61",
   "metadata": {},
   "outputs": [
    {
     "name": "stdout",
     "output_type": "stream",
     "text": [
      "Surname                    HAMDULLAHPUR\n",
      "First Name                      FERIDUN\n",
      "Position Title      President;;Emeritus\n",
      "Salary                           475761\n",
      "Taxable Benefits                 548.16\n",
      "Name: 655, dtype: object\n"
     ]
    }
   ],
   "source": [
    "# Maximum salary\n",
    "\n",
    "max_sal = df.loc[df['Salary'].idxmax()]\n",
    "print(max_sal)"
   ]
  },
  {
   "cell_type": "markdown",
   "id": "605c1f2d",
   "metadata": {},
   "source": [
    "The highest salary was $475,761.11 and it was paid to the (then) President, Hamdullahpur Feridun. \n",
    "<br>\n",
    "<br>\n",
    "This is roughly 601% higher than the national average for a federal employee, and 857% higher than the average Canadian worker."
   ]
  },
  {
   "cell_type": "code",
   "execution_count": 459,
   "id": "4d362f69",
   "metadata": {},
   "outputs": [
    {
     "name": "stdout",
     "output_type": "stream",
     "text": [
      "Surname                                         DONOHUE\n",
      "First Name                                      JOHN M.\n",
      "Position Title      Senior Manager, Scientific Outreach\n",
      "Salary                                           100000\n",
      "Taxable Benefits                                  115.8\n",
      "Name: 415, dtype: object\n"
     ]
    }
   ],
   "source": [
    "# Minumum salary\n",
    "\n",
    "min_sal = df.loc[df['Salary'].idxmin()]\n",
    "print(min_sal)"
   ]
  },
  {
   "cell_type": "markdown",
   "id": "0c4cc807",
   "metadata": {},
   "source": [
    "The lowest salary was $100,000.08 and it was paid to the Senior Manager of Scientific Outreach, John M. Donohue.\n",
    "<br>\n",
    "<br>\n",
    "This is roughly 126% higher than the national average for a federal employee, and 180% higher than the aberage Canadian worker."
   ]
  },
  {
   "cell_type": "code",
   "execution_count": 460,
   "id": "3dc30865",
   "metadata": {},
   "outputs": [
    {
     "name": "stdout",
     "output_type": "stream",
     "text": [
      "Average salary:  158976.28\n",
      "Median salary:  151143.82\n"
     ]
    }
   ],
   "source": [
    "# Average & median salary\n",
    "\n",
    "avg_sal = round(df.Salary.mean(), 2)\n",
    "med_sal = round(df.Salary.median(), 2)\n",
    "print(\"Average salary: \", avg_sal)\n",
    "print(\"Median salary: \", med_sal)"
   ]
  },
  {
   "cell_type": "markdown",
   "id": "a9f02d26",
   "metadata": {},
   "source": [
    "The average salary of University of Waterloo employees is $158,976.28. \n",
    "<br>\n",
    "<br>\n",
    "This is roughly 201% higher than federal employees and 286% higher than the average Canadian worker."
   ]
  },
  {
   "cell_type": "code",
   "execution_count": 461,
   "id": "bf71acfa",
   "metadata": {},
   "outputs": [
    {
     "name": "stdout",
     "output_type": "stream",
     "text": [
      "The salaries have a range of $ 375761.03\n"
     ]
    }
   ],
   "source": [
    "# Salary range\n",
    "mxm = df.Salary.max()\n",
    "minm = df.Salary.min()\n",
    "\n",
    "sal_range = round(mxm - minm, 2)\n",
    "\n",
    "print(\"The salaries have a range of $\", sal_range)"
   ]
  },
  {
   "cell_type": "markdown",
   "id": "77287c04",
   "metadata": {},
   "source": [
    "#### Interquartile Range"
   ]
  },
  {
   "cell_type": "markdown",
   "id": "47c4d1aa",
   "metadata": {},
   "source": [
    "The IQR measures the spread of the middle half of your data. It is the difference between the 75th and 25th percentiles of the salaries. "
   ]
  },
  {
   "cell_type": "code",
   "execution_count": 462,
   "id": "dc100b19",
   "metadata": {
    "scrolled": true
   },
   "outputs": [
    {
     "name": "stdout",
     "output_type": "stream",
     "text": [
      "The interquartile range is:  72647.57\n"
     ]
    }
   ],
   "source": [
    "iqr_sal = iqr(df['Salary'])\n",
    "print('The interquartile range is: ', round(iqr_sal, 2))"
   ]
  },
  {
   "cell_type": "code",
   "execution_count": 463,
   "id": "c0a0b839",
   "metadata": {},
   "outputs": [
    {
     "data": {
      "text/plain": [
       "(1356, 5)"
      ]
     },
     "execution_count": 463,
     "metadata": {},
     "output_type": "execute_result"
    }
   ],
   "source": [
    "# New dataframe consisting of only teaching staff with the titles \n",
    "# Lecturer, Professor, Associate Professor, Researcher, Instructor or similar.\n",
    "df_profs = df[df['Position Title'].str.contains('Lecturer|Professor|Research|Instructor')]\n",
    "df_profs.shape"
   ]
  },
  {
   "cell_type": "markdown",
   "id": "f3778792",
   "metadata": {},
   "source": [
    "Of the 1856 staff that make $100,000 or above, 1356 are primarily teaching staff, with titles including Researcher, Lecturer, Professor, Associate Professor, Instructor or similar."
   ]
  },
  {
   "cell_type": "code",
   "execution_count": 464,
   "id": "a9e920be",
   "metadata": {},
   "outputs": [
    {
     "data": {
      "text/html": [
       "<div>\n",
       "<style scoped>\n",
       "    .dataframe tbody tr th:only-of-type {\n",
       "        vertical-align: middle;\n",
       "    }\n",
       "\n",
       "    .dataframe tbody tr th {\n",
       "        vertical-align: top;\n",
       "    }\n",
       "\n",
       "    .dataframe thead th {\n",
       "        text-align: right;\n",
       "    }\n",
       "</style>\n",
       "<table border=\"1\" class=\"dataframe\">\n",
       "  <thead>\n",
       "    <tr style=\"text-align: right;\">\n",
       "      <th></th>\n",
       "      <th>Surname</th>\n",
       "      <th>First Name</th>\n",
       "      <th>Position Title</th>\n",
       "      <th>Salary</th>\n",
       "      <th>Taxable Benefits</th>\n",
       "    </tr>\n",
       "  </thead>\n",
       "  <tbody>\n",
       "    <tr>\n",
       "      <th>4</th>\n",
       "      <td>ABEYWARDENA</td>\n",
       "      <td>ISHAN S.</td>\n",
       "      <td>Associate Director, Systems</td>\n",
       "      <td>130083.13</td>\n",
       "      <td>352.16</td>\n",
       "    </tr>\n",
       "    <tr>\n",
       "      <th>14</th>\n",
       "      <td>AGER</td>\n",
       "      <td>SHEILA L.</td>\n",
       "      <td>Dean, Arts</td>\n",
       "      <td>258870.68</td>\n",
       "      <td>265.20</td>\n",
       "    </tr>\n",
       "    <tr>\n",
       "      <th>19</th>\n",
       "      <td>ALARCO</td>\n",
       "      <td>JAVIER A.</td>\n",
       "      <td>Executive Chef</td>\n",
       "      <td>101792.08</td>\n",
       "      <td>117.84</td>\n",
       "    </tr>\n",
       "    <tr>\n",
       "      <th>20</th>\n",
       "      <td>ALDWINCKLE</td>\n",
       "      <td>DAVID</td>\n",
       "      <td>Network Support Specialist</td>\n",
       "      <td>121820.62</td>\n",
       "      <td>134.84</td>\n",
       "    </tr>\n",
       "    <tr>\n",
       "      <th>21</th>\n",
       "      <td>ALEKBEROV</td>\n",
       "      <td>ELSHAN</td>\n",
       "      <td>Business Manager</td>\n",
       "      <td>107366.12</td>\n",
       "      <td>93.96</td>\n",
       "    </tr>\n",
       "  </tbody>\n",
       "</table>\n",
       "</div>"
      ],
      "text/plain": [
       "        Surname First Name               Position Title     Salary  \\\n",
       "4   ABEYWARDENA   ISHAN S.  Associate Director, Systems  130083.13   \n",
       "14         AGER  SHEILA L.                   Dean, Arts  258870.68   \n",
       "19       ALARCO  JAVIER A.               Executive Chef  101792.08   \n",
       "20   ALDWINCKLE      DAVID   Network Support Specialist  121820.62   \n",
       "21    ALEKBEROV     ELSHAN             Business Manager  107366.12   \n",
       "\n",
       "    Taxable Benefits  \n",
       "4             352.16  \n",
       "14            265.20  \n",
       "19            117.84  \n",
       "20            134.84  \n",
       "21             93.96  "
      ]
     },
     "execution_count": 464,
     "metadata": {},
     "output_type": "execute_result"
    }
   ],
   "source": [
    "# Non-teaching staff dataframe\n",
    "df_nt = pd.concat([df, df_profs, df_profs]).drop_duplicates(keep=False)\n",
    "df_nt.head()"
   ]
  },
  {
   "cell_type": "markdown",
   "id": "d19630ef",
   "metadata": {},
   "source": [
    "### Visualization of data"
   ]
  },
  {
   "cell_type": "markdown",
   "id": "0758b558",
   "metadata": {},
   "source": [
    "#### Histogram to Show Distribution"
   ]
  },
  {
   "cell_type": "code",
   "execution_count": 465,
   "id": "f654616d",
   "metadata": {
    "scrolled": false
   },
   "outputs": [
    {
     "data": {
      "application/vnd.plotly.v1+json": {
       "config": {
        "plotlyServerURL": "https://plot.ly"
       },
       "data": [
        {
         "alignmentgroup": "True",
         "bingroup": "x",
         "hovertemplate": "Salary=%{x}<br>count=%{y}<extra></extra>",
         "legendgroup": "",
         "marker": {
          "color": "darkgreen"
         },
         "name": "",
         "nbinsx": 120,
         "offsetgroup": "",
         "orientation": "v",
         "showlegend": false,
         "type": "histogram",
         "x": [
          154146.48,
          144188.61,
          206339.68,
          106701.64,
          130083.13,
          207908.56,
          104855.24,
          170668.8,
          161200,
          207847.68,
          130136.92,
          182313.16,
          141217.8,
          146785.96,
          258870.68,
          184641.36,
          104244.84,
          167638.12,
          154721.6,
          101792.08,
          121820.62,
          107366.12,
          156638.52,
          138595.08,
          100461.58,
          104053.36,
          171937.8,
          151728.56,
          169370.16,
          151166.44,
          153712.2,
          101318.58,
          100695.68,
          150147.3,
          134424.04,
          123452.15,
          264992.16,
          154642.4,
          176763,
          151139.55,
          103276.76,
          133744.08,
          198162.2,
          128899.84,
          112655.64,
          186593.44,
          278660.47,
          108893.76,
          219895.52,
          102122.52,
          102146.08,
          192548.18,
          110302.2,
          229980.16,
          141962.28,
          120076.79,
          217049.2,
          203457.08,
          205427.68,
          147626.28,
          102978.5,
          126982,
          132390.48,
          111162.08,
          136632.54,
          172847.68,
          118642.67,
          140461.44,
          211025.62,
          155939.61,
          148545.32,
          100776.69,
          194113.64,
          199536.96,
          138052.76,
          144445.16,
          297333.34,
          213914.08,
          193434.48,
          107283.28,
          102982.76,
          101062.08,
          211353.64,
          144619.62,
          157833.76,
          141223.72,
          211815.64,
          135056,
          121254.16,
          161448.68,
          193190.68,
          163994.68,
          183664.84,
          160801.4,
          176060.76,
          195658.88,
          221349.02,
          246619.08,
          169926.24,
          128166.46,
          141121.42,
          167758.04,
          127436.24,
          178117.55,
          171784.92,
          243685.44,
          115117.68,
          106335.4,
          130271.52,
          205338.04,
          118092.56,
          148915.2,
          227061.52,
          139425.76,
          171711.76,
          131573.08,
          132152.56,
          114336.48,
          100538.72,
          226622.56,
          121021.16,
          158029.12,
          107468.65,
          225808.68,
          111932.04,
          190676.84,
          146186.04,
          134889.9,
          186509.84,
          146355.36,
          176275.64,
          106326.3,
          168476.4,
          100353.72,
          168477.4,
          159045.24,
          160923.72,
          142438.28,
          226270.64,
          158380.42,
          106477.96,
          172094.12,
          241096.28,
          206216.72,
          108743.05,
          205746.2,
          148813.81,
          194548.76,
          157127.48,
          140316.4,
          127735.48,
          100118.8,
          100523.12,
          205621.4,
          115287.6,
          201472,
          170576.18,
          113204.92,
          113638.83,
          112065.1,
          150494.56,
          198885.48,
          164417,
          133167.36,
          258117.72,
          193835.36,
          113839.24,
          193709.96,
          126588.96,
          103293.6,
          207055.68,
          121320.58,
          101036.76,
          244819.76,
          147770.85,
          158726.48,
          201337.32,
          115290.2,
          110629.48,
          262707.56,
          207816.63,
          187736.6,
          145771.92,
          153560.36,
          120370.6,
          121556.2,
          185845.88,
          100068.04,
          113370.32,
          107027,
          105313.34,
          123662.8,
          181100.92,
          225992.16,
          217321.36,
          212470,
          102943.96,
          174224.15,
          138241.25,
          118369.87,
          161341.23,
          114023.66,
          247806.92,
          105216.63,
          201347.68,
          184612.48,
          153898.56,
          113549.64,
          117386.24,
          189423.48,
          197173.96,
          185961.4,
          128707.56,
          230913.48,
          229375.16,
          145450.8,
          221033.72,
          214784.28,
          266661.11,
          116116.32,
          141191.9,
          153079.39,
          121708.04,
          167872.76,
          120672.84,
          121724.08,
          127845.4,
          138657.96,
          125092.76,
          218827.56,
          199441.92,
          176273.48,
          117304.56,
          218248.2,
          113034.56,
          122614.04,
          107379.04,
          121688.12,
          119206.72,
          119067.48,
          169538.48,
          187424.4,
          191202.44,
          112955.68,
          160765.23,
          171624.96,
          155658.48,
          192693.04,
          119456.39,
          182423.96,
          123366.72,
          163391.88,
          215625,
          200485.12,
          155062.48,
          254900.92,
          198165.68,
          147948.16,
          174912.8,
          194553.4,
          114163.8,
          178454.28,
          135283.08,
          212409.04,
          102430.04,
          184875.4,
          222831.8,
          145008.5,
          151468.52,
          104535.75,
          237738.88,
          232128.12,
          178018.12,
          136219.34,
          229133.36,
          102777,
          233962.48,
          161706.24,
          109641.28,
          116286.84,
          130930.58,
          110627.12,
          131733.69,
          232598.96,
          117427.56,
          197029.8,
          217123.4,
          112879,
          108092.63,
          138037.5,
          175932,
          240154,
          124427.21,
          101559.85,
          108085.56,
          100928.81,
          247467.2,
          105854.86,
          136057.12,
          101490.04,
          261231.32,
          112062.48,
          178304.04,
          100499.56,
          148416.68,
          216061.8,
          135000,
          115927.44,
          137942.32,
          104163.04,
          222645.6,
          130383.8,
          316273.72,
          166041.84,
          142141.73,
          116708.62,
          178305.37,
          106870.11,
          209997.28,
          100666.72,
          104923.12,
          191821.4,
          191821.52,
          217651.56,
          187433.96,
          131259.6,
          196869.31,
          119747.28,
          102360.92,
          199296.08,
          212295.28,
          217462.36,
          227144.24,
          104053,
          140076.76,
          175001,
          150690.44,
          187893.76,
          120360.04,
          247060.12,
          117456.72,
          187185.64,
          194148.72,
          202706.28,
          109449.32,
          164143.8,
          102265.13,
          119295.4,
          118286.92,
          200733.16,
          108295.24,
          140669.04,
          207279.52,
          187275.88,
          196905.56,
          204985.16,
          111057.48,
          185961.12,
          202164.24,
          187498.36,
          108999.76,
          166004.36,
          191556.88,
          117575.88,
          242793.68,
          107913.48,
          111212.76,
          210480.6,
          121410.04,
          207704.76,
          164261.92,
          156868.68,
          165542.88,
          213833.76,
          196929.44,
          192454,
          164155.56,
          137067.92,
          110459.43,
          122959.04,
          287415.48,
          117642.84,
          105740,
          108389.09,
          117773.6,
          318536.08,
          116344.75,
          121623.66,
          102104.24,
          203784.48,
          223122.76,
          123479.76,
          121591.2,
          199307.24,
          141110.04,
          201173.32,
          177497.24,
          155000.68,
          107283.52,
          145943.84,
          165989.12,
          108095.77,
          123524.72,
          216116.2,
          210317.08,
          164165.24,
          125720.56,
          119494.08,
          112186.12,
          192180.16,
          123439.36,
          108658.76,
          133506.76,
          159999.2,
          141719.04,
          100000.08,
          148512.05,
          145653.5,
          134393.08,
          219245,
          260193.32,
          129790.84,
          159048.4,
          175062.88,
          105972.36,
          122957.24,
          191519.72,
          135794.72,
          115120.64,
          137982,
          177425.76,
          101145.16,
          123861.44,
          138899.16,
          217835.84,
          199022.36,
          189529.88,
          135828.84,
          137348.88,
          205814.96,
          103823.84,
          143534.96,
          162849.64,
          190071.74,
          137364.8,
          111113.32,
          193647.28,
          180541.28,
          161373.28,
          248426.04,
          285207,
          113549.64,
          195605.52,
          120966.36,
          116497.2,
          173622,
          145000.08,
          243731.31,
          173296.28,
          138883.52,
          214342.48,
          158934.13,
          192653.04,
          234969.24,
          107287.15,
          157720.4,
          226456,
          192063.12,
          155021.72,
          152990.32,
          190483.48,
          128241,
          156513.24,
          102144,
          140918.38,
          123844.6,
          190209.64,
          146758.52,
          109640.93,
          103871.8,
          193378.76,
          210539.04,
          105437.44,
          135887.32,
          109386.5,
          172185.52,
          131375.56,
          188346.92,
          167956.36,
          123628.52,
          221741.2,
          138721.61,
          214509.32,
          100258.09,
          108086.2,
          192374.02,
          203320.88,
          156556.4,
          149925.8,
          192312.24,
          182635.6,
          241785.4,
          186647.36,
          109607.32,
          255155.8,
          135489.68,
          105957.05,
          220780,
          105745.28,
          129879.77,
          146587.22,
          230560.68,
          143308.56,
          239806.44,
          129759.18,
          226936.56,
          105125.16,
          166725.48,
          114730.44,
          127325.97,
          107408.16,
          254195.64,
          132901.42,
          201865.6,
          176508.4,
          170015.48,
          107715.48,
          329230.96,
          126557.6,
          147739.08,
          233505.76,
          210444.8,
          155896.06,
          229536.16,
          101497.4,
          188161.22,
          153313.36,
          205392.2,
          112048.76,
          102225.6,
          174263.84,
          184484.52,
          189434.8,
          202777.12,
          164039.48,
          115406.76,
          159131.34,
          117595.52,
          178198.15,
          104054.08,
          133204.58,
          165984.16,
          100649.48,
          189318.64,
          117339.56,
          135077.56,
          128316.09,
          120912.2,
          108960.36,
          112973.6,
          199320.28,
          134173.78,
          122332.48,
          212031.36,
          225559,
          102113.16,
          113023.24,
          120272.56,
          168338,
          125012.4,
          172357.2,
          170264.2,
          159118.26,
          181960.96,
          112812.94,
          116918.88,
          222772.72,
          104189.17,
          106818.68,
          292286.16,
          109435.02,
          112038.9,
          294461.32,
          107132.76,
          113972.37,
          129917.94,
          244057.32,
          153456.64,
          130558.32,
          158448.94,
          191426.48,
          194702.16,
          109818.12,
          148938.84,
          236723.28,
          168755.4,
          213311.8,
          227751.32,
          117406.15,
          200469.2,
          233397.64,
          108294.62,
          116703.44,
          205449.92,
          193207.52,
          105638.88,
          193426.88,
          168272.78,
          134726.24,
          159858.76,
          166794.32,
          110891.24,
          174247.08,
          113632.75,
          153932.12,
          190488.44,
          116956.04,
          118070.84,
          170229.08,
          108499.73,
          110808,
          106875.04,
          142884.1,
          186729.24,
          126331.04,
          146071.32,
          131902.33,
          131515.88,
          185697.44,
          204837.48,
          123889.24,
          110423.64,
          165583.24,
          115446.56,
          211221.52,
          157132.32,
          170302.8,
          236664.04,
          124429.84,
          118854.2,
          169276.08,
          155059.24,
          135287.16,
          185685.24,
          161420.84,
          123208.32,
          111218.92,
          133911.18,
          128091.44,
          224443.4,
          122686.36,
          198753.72,
          179588.32,
          115131.6,
          106092.84,
          475761.11,
          137762.56,
          206118.08,
          170089.48,
          157526.34,
          205505.96,
          113792.12,
          191646.52,
          177659.6,
          103492.72,
          133820.52,
          218834.44,
          202888.88,
          111130.49,
          162929.8,
          125108.04,
          128109.14,
          214571.92,
          138047.24,
          108721.48,
          131120.92,
          245162.28,
          167390,
          207142.2,
          197430.76,
          155319.68,
          220482.12,
          154888.88,
          109287,
          205472.76,
          113322.64,
          189728.84,
          112913.64,
          100444.65,
          221691.52,
          207762,
          202019.8,
          189874.24,
          121355.46,
          129980.62,
          151747.6,
          220086.92,
          100521.05,
          112728.41,
          124088.94,
          212559.2,
          194256.92,
          145269.24,
          179441.04,
          186588.76,
          104356.56,
          106126.26,
          118569.6,
          137358.92,
          220987.44,
          204453.36,
          147680.92,
          109642.98,
          186863.16,
          163032.44,
          142737.28,
          201490.92,
          141637.46,
          152608.22,
          104622.78,
          138337.81,
          169611.73,
          159723.12,
          226701.8,
          160477.2,
          141180.92,
          103924.64,
          158433.04,
          172151.56,
          199883.12,
          107835.32,
          213226.32,
          141959.12,
          252044.52,
          128500.02,
          118763,
          278350.44,
          237814.24,
          206045.56,
          201606.12,
          141656.08,
          103061.54,
          233630.16,
          192479.96,
          171160.04,
          146100.68,
          191780.24,
          144232.8,
          151080,
          100519.24,
          190379.37,
          220069.16,
          108545.17,
          100540.98,
          107203.4,
          153013.64,
          206135.28,
          130803.32,
          214505.44,
          117056.96,
          195045.92,
          141665,
          134556.07,
          193196,
          192330.8,
          201602.2,
          169814.88,
          203468.36,
          110282.96,
          201071.98,
          130345.24,
          111676.44,
          161058.12,
          122717.07,
          194426.24,
          147630.79,
          138180.48,
          215299.88,
          171576.48,
          130939,
          108646.68,
          212490.52,
          187572.2,
          136723.17,
          102909.72,
          205051.08,
          240098.12,
          193751.28,
          107966.02,
          133458.73,
          102580.56,
          174603.76,
          268322.56,
          205275.48,
          186571.88,
          137338.28,
          195211.36,
          125017.32,
          202958.72,
          188414.08,
          122757.84,
          114006.08,
          259671.84,
          205150.32,
          136876.13,
          181185.8,
          145410.12,
          123179.12,
          110489.08,
          105169.05,
          111584.16,
          152134.76,
          145705.92,
          117052.89,
          203125.44,
          152637.2,
          127818.76,
          194260.44,
          212567.6,
          161076.56,
          223845.24,
          100290.32,
          154690.88,
          198907,
          130671.12,
          199632.64,
          143589.16,
          126890.84,
          121637.36,
          223471.96,
          132191.84,
          217137.64,
          137458.8,
          123684.08,
          210295,
          161839.56,
          160348.88,
          228485.48,
          192553.52,
          104077.2,
          219952.4,
          113986.01,
          112160.16,
          108739.04,
          248800.08,
          191296.4,
          222872.23,
          149533.13,
          169452.28,
          101682.88,
          121244.64,
          175075.68,
          122376.36,
          122386.48,
          120000,
          148124.6,
          173960.36,
          153805.2,
          103391.75,
          302126.36,
          193368.88,
          111642.8,
          120157.44,
          103761.08,
          113018.12,
          178162.08,
          145382.64,
          132693.6,
          189041.44,
          160663.52,
          216678.36,
          188103,
          178665,
          200035.36,
          185671.96,
          102885.78,
          112451.56,
          102430.36,
          109132.92,
          216575.04,
          153822.91,
          170124.2,
          156537.44,
          133175.52,
          125461.44,
          108646.24,
          164346.88,
          103117.56,
          230829.92,
          112064.68,
          117908.48,
          189832.16,
          179306.32,
          105286.8,
          236335.52,
          201374.6,
          128822.88,
          342289.04,
          158532.08,
          136710.14,
          195886.72,
          178161.04,
          195436.6,
          113155.97,
          111695.96,
          213872.92,
          205031.72,
          167149.24,
          104644.19,
          122442.56,
          206944.45,
          102094.8,
          194025.18,
          108960.56,
          214668.96,
          171180.04,
          168437.56,
          138326.33,
          194353.52,
          165507.12,
          156274.68,
          194559.48,
          314892.48,
          100412,
          197861.6,
          165094.24,
          128827.5,
          282638.24,
          137523.84,
          195056.4,
          122652.64,
          169464.44,
          100111.38,
          205533.96,
          143698.56,
          207130.44,
          208877.68,
          159557.56,
          152829.36,
          108437.8,
          193436.68,
          213793.2,
          129187.2,
          137340.68,
          149484.55,
          125411.2,
          170320.96,
          198190.44,
          221860.24,
          223388.72,
          243647.56,
          171911.96,
          223674.76,
          151846.4,
          108586.36,
          192919.6,
          215864.04,
          260609.52,
          200099.44,
          105162.32,
          196023.52,
          110092.16,
          169662.6,
          181889.16,
          157887.04,
          130111.2,
          134855.44,
          278950.4,
          205566.84,
          132750.28,
          138735.64,
          165459.72,
          141079.12,
          141922.36,
          105215.7,
          133528.64,
          176572.88,
          185638.88,
          105451.55,
          101121.92,
          105545.6,
          126327.36,
          115541.74,
          206114.8,
          189494.92,
          177120,
          109365.8,
          169028.84,
          145765.52,
          217373.36,
          109766.68,
          132059.24,
          148777.56,
          162594.56,
          205303.52,
          171924.52,
          178472.64,
          186918.88,
          125708.4,
          186074.52,
          124415.32,
          117908.66,
          178518.4,
          101202.6,
          165398.32,
          173323.68,
          142039.53,
          103406.92,
          215529.8,
          100428.78,
          131401.92,
          253295.28,
          114000.45,
          168071.72,
          164916.8,
          134413.96,
          158481.8,
          145673.72,
          138451.32,
          119327.37,
          106469.08,
          103381.88,
          146069.36,
          184725,
          141483.08,
          236563.16,
          165043.08,
          165595.96,
          175544.48,
          121806.72,
          138124.48,
          233123.84,
          146966.12,
          206359.4,
          190671.83,
          163071.08,
          107607.08,
          258899.72,
          203765.4,
          153526.6,
          142517.72,
          169453.2,
          111790.2,
          211675.68,
          167178.52,
          106813.84,
          165697.6,
          118515.28,
          129759.68,
          153855.2,
          147840.16,
          115306.8,
          123238.36,
          113785.94,
          148062.6,
          109747.92,
          195301.68,
          109891.48,
          117422.52,
          206116.6,
          120570.59,
          185165.84,
          220236.24,
          190147.52,
          145088.58,
          130409.68,
          143383,
          111168.37,
          180840.64,
          117191.04,
          204931.99,
          102449.04,
          112373.92,
          155079.44,
          118082.33,
          121598.64,
          119053.53,
          105605.96,
          105801.96,
          144397.64,
          183282.68,
          216581.24,
          157257.68,
          194628.48,
          155080.34,
          111250.08,
          145196.32,
          130950.52,
          105516.8,
          186497.64,
          205502.84,
          211569.68,
          104885.92,
          138308.16,
          105868.32,
          140274.36,
          108747.29,
          260320.6,
          154381.08,
          126595.3,
          192488.24,
          192585.16,
          264776.84,
          249246.16,
          257323.28,
          206145.08,
          135004.96,
          132214.03,
          183570.8,
          210699.36,
          144642.28,
          118021.32,
          210380.28,
          189052.44,
          103936.68,
          101525.44,
          154211.4,
          112275.76,
          106989.04,
          147536,
          140786.68,
          116935.88,
          131314.88,
          143167.48,
          121857.84,
          135584.32,
          150217.68,
          185625.24,
          186530.44,
          109827.32,
          139692.8,
          103579.56,
          144207.28,
          208222.2,
          110716.78,
          140539.57,
          139271.6,
          135824.4,
          144788.28,
          203073.16,
          112043.36,
          129715.68,
          153357.96,
          139246.24,
          301438.72,
          187623.84,
          150144.08,
          130533.16,
          100646.38,
          213867.44,
          102244.82,
          117879.6,
          145207.84,
          188477.05,
          227465.12,
          142051.68,
          159488.72,
          161884.72,
          111939.92,
          173280.72,
          117534.6,
          149387.2,
          226905.68,
          102342.3,
          130064.48,
          105800.16,
          216959.83,
          167563.24,
          182877.36,
          110752.28,
          238970.48,
          170881.08,
          127711.52,
          182694.28,
          109431.46,
          238421.04,
          106323.8,
          207024.36,
          260317.8,
          102179.78,
          111466.72,
          158542.36,
          209623.44,
          220788.8,
          106929.94,
          102726.12,
          138853.12,
          114955.33,
          168530.84,
          224000.04,
          155258.2,
          128379.2,
          121721,
          115962.12,
          181010.44,
          165636.8,
          203249.68,
          212303.84,
          148187.04,
          249451.76,
          218093.36,
          143250,
          209161.24,
          141460.48,
          201510.44,
          262351.76,
          221459.04,
          127783.52,
          136280.68,
          192450.8,
          127508.81,
          119500.16,
          159528.74,
          163240.64,
          175347.8,
          125867.42,
          158878.38,
          203299.64,
          125000.04,
          107850.76,
          195730.4,
          224593.72,
          124152.32,
          113045.66,
          163910.76,
          133761.4,
          140949,
          173630.96,
          195667.08,
          178697.12,
          151974.82,
          210578.32,
          115341.48,
          123696.12,
          185891.08,
          138165.77,
          125911.77,
          135804.9,
          123065.75,
          174072.68,
          183977.72,
          105722.72,
          107710.04,
          188695.56,
          165879.48,
          200413.92,
          218538.04,
          112748.48,
          108389.74,
          160587.32,
          150889.68,
          129721.21,
          217349.32,
          189897.2,
          160541.04,
          191504.96,
          138815.08,
          109488.24,
          166050.6,
          214339.24,
          271714.08,
          115246.76,
          144938.6,
          169073.6,
          205336.4,
          106220.23,
          174018.76,
          114926.04,
          126635.84,
          213838.56,
          104828.92,
          186774.76,
          212619.22,
          159656.36,
          229169.12,
          229462.36,
          106718.72,
          103775.37,
          103733.56,
          199817.37,
          104316.64,
          101710.34,
          158452.92,
          176002.68,
          102102.17,
          102241.68,
          123897.56,
          226542.28,
          106671.39,
          105160.36,
          116028.66,
          101366.12,
          127081.32,
          276401.72,
          104975.44,
          169955.4,
          165782.03,
          108791.84,
          111910.04,
          225458,
          131678.3,
          112665.68,
          106712.4,
          278765.08,
          113642.37,
          191681.36,
          139809.92,
          115837.88,
          194638.72,
          119073.28,
          180467.36,
          148479.28,
          117343.45,
          133011.12,
          257705.76,
          109461.4,
          118522.16,
          108718.68,
          171801.56,
          134079,
          142681.64,
          119034.85,
          118642.68,
          107456.39,
          146064.36,
          209434.2,
          208461.8,
          223187.44,
          192133.56,
          149767.4,
          160618.6,
          163056.68,
          170181.44,
          135372.56,
          124973.84,
          177453.48,
          192109.18,
          223409.6,
          192376.2,
          108610.96,
          110590.88,
          242730.26,
          146482.91,
          165031.32,
          109059.35,
          195588.44,
          186590.12,
          161207.03,
          169893.8,
          206837.24,
          160573.48,
          190476.56,
          163753.84,
          142979.4,
          150254.28,
          112725.64,
          184186.28,
          127230.68,
          167543.1,
          124428.28,
          109913.28,
          163371.16,
          139153.63,
          203500.12,
          100820.52,
          111274.1,
          212831.4,
          143199.2,
          110484.56,
          199472.32,
          108642.66,
          103061.16,
          160377.55,
          211721.36,
          236326.16,
          121598.07,
          170973.52,
          223975.52,
          148407.76,
          149792.54,
          105213.52,
          103144.52,
          188840.74,
          142313.34,
          107813.89,
          163589.96,
          187188.72,
          102361.04,
          264167.21,
          126000,
          141858.48,
          190952.6,
          154643.92,
          171995.56,
          123273.52,
          165630.94,
          117011.36,
          188395.52,
          131183.25,
          162039.24,
          110697.06,
          146303.28,
          109208.4,
          163134.58,
          156151.24,
          102900.43,
          136470,
          165436.32,
          189292.84,
          106498.64,
          131485.32,
          108482.76,
          102403.56,
          101807.45,
          148985.48,
          100868.31,
          179651,
          240482.56,
          103676.66,
          257274.28,
          163774.18,
          123827.24,
          257380.72,
          144609.2,
          235948.24,
          103670.56,
          109623.44,
          176879.6,
          218639,
          108184.25,
          164041.28,
          326000.04,
          112220.53,
          105819.67,
          102356.31,
          102403.6,
          169173.36,
          173278.47,
          180143.67,
          272791.24,
          223387.96,
          199309.84,
          210821.56,
          116560.28,
          281058,
          159341.68,
          142581.34,
          132937.36,
          174887.84,
          123719.2,
          100709.36,
          120000,
          138635.15,
          192869.16,
          182736.52,
          194462.2,
          100946.4,
          121818.96,
          147712.03,
          104073.75,
          113090.31,
          105569.96,
          203949.96,
          209072.44,
          133780.81,
          196417.9,
          114664.76,
          127745.78,
          129431.08,
          221790.6,
          161180.68,
          185020.08,
          192352.76,
          202182.12,
          122803.98,
          160340,
          113322.54,
          141771.13,
          101120.72,
          102675.12,
          120021.41,
          130280.48,
          145545.88,
          164154.2,
          168782.56,
          151303,
          200055,
          118743.13,
          191618.96,
          102000,
          119793.08,
          185175.32,
          113334.4,
          229278.53,
          139965.48,
          235020.4,
          162185.68,
          148014.24,
          127500.88,
          121675.28,
          109839.6,
          122153.68,
          175434.64,
          188700,
          141896.64,
          253620.19,
          143287.8,
          187383.44,
          108646.24,
          111253.68,
          117142.13,
          340207.59,
          132352.76,
          137173.76,
          208265.08,
          128970.24,
          152522.76,
          139823.44,
          190336.48,
          211071.72,
          154967.8,
          125577.19,
          124526.08,
          221165.48,
          223858.48,
          194574.56,
          125178.6,
          157669.88,
          200946.76,
          106689.12,
          153230.64,
          151148.08,
          200030.86,
          208194.03,
          185993.2,
          121072.84,
          143351.36,
          124054.68,
          102866.68,
          110059.98,
          191972.64,
          165147.52,
          141937,
          126747.36,
          101392.76,
          259742.16,
          152635.16,
          162774.28,
          101675.92,
          101792.32,
          122316.72,
          133899.2,
          157500,
          176431.96,
          122729.87,
          154855.44,
          209218.96,
          160534.9,
          121946.68,
          122334.88,
          196679.76,
          200199.81,
          189502.84,
          133499.2,
          141935.36,
          122090.58,
          112122.17,
          228160.17,
          123586.36,
          109155.08,
          161395.6,
          240849.76,
          125643.36,
          186615.4,
          204443.08,
          196293.8,
          192893.6,
          190109.92,
          131029.64,
          209468.84,
          185661.56,
          262685.44,
          185364.56,
          101848,
          240491.6,
          115319.81,
          137050,
          110816.72,
          154441.44,
          115472.48,
          126968.4,
          128608.6,
          121104.44,
          112234.84,
          182110.24,
          157279.16,
          178258.88,
          106865.84,
          156199.23,
          219241.36,
          109819.24,
          113881.72,
          190184.64,
          132570,
          221930.68,
          132682.36,
          197011.28,
          168529.48,
          126866.72,
          122986.2,
          139526.85,
          150497.64,
          199079.64,
          194147.94,
          110508,
          208839.36,
          155746.15,
          110228.72,
          191104.48,
          123639.72,
          172987.68,
          248737.6,
          173953.56,
          232455.46,
          131070.48,
          251452.36,
          256292.16,
          108837.76,
          150319.76,
          167987.64,
          186237.16,
          103247.32,
          127825.96,
          191422.2,
          150054.32,
          102621.4,
          108066.66,
          225701.24,
          129132.4,
          119847.76,
          185336.4,
          107540.76,
          131414.4,
          180466.57,
          169852.6,
          181454.64,
          123137.8,
          147649.24,
          198794.8,
          104670.68,
          230787.84,
          154624.36,
          210046.68,
          108655.26,
          122420,
          174163.75,
          137913.4,
          184394.36,
          196168.04,
          100716.51,
          185960.68,
          222213.44,
          245421.84,
          137006.48,
          123933.13,
          136672.48,
          139675.19,
          199472.68,
          101387.16,
          211850.76,
          120639.92,
          181747.5,
          184251.78,
          229448.72,
          192339.88,
          186875.16,
          107516.68,
          132834.1,
          102533.42,
          156466.24,
          234108.84,
          128871,
          121247.6,
          123763.04,
          214422.08,
          146737.24,
          206660.24,
          181975.44,
          108713.99,
          127426.04,
          103668.66,
          115918,
          203509.5,
          105346.38,
          111474.72,
          114867.92,
          103239.24,
          256983.72,
          160340.08,
          194445.88,
          131069.52,
          141556,
          126223,
          117803.84,
          101173.12,
          207721.24,
          158815.44,
          185935.8,
          175668.72,
          158551.06,
          139770.76,
          213744.36,
          198988.2,
          102896.77,
          113258.39,
          183126.16,
          133752.08,
          101283.4,
          231154.24,
          264931.8,
          266746.68,
          127787.68,
          302742.08,
          240598.88,
          205406.24,
          102079.72,
          157413.08,
          167767.13,
          210983.52,
          199805.28,
          117546.44,
          154913.72,
          113611.52,
          116550.32,
          109950.32,
          223145.44,
          282196.32,
          172741.12,
          127542.98,
          171070.44,
          167084.84,
          144237.08,
          113007.44,
          198567.9,
          120781.69,
          145740.4,
          117962.2,
          122272.6,
          119465.98,
          113073.24,
          106990.43,
          123024.93,
          234387.72,
          136620.29,
          120573.69,
          214048.7,
          168598.32,
          130248.86,
          140756.4,
          115979.38,
          101696.24,
          111225.12,
          219403.32,
          103021.88,
          111273.08,
          120717.97,
          213123.53,
          154315.38,
          109271.04,
          106591.76,
          111219.96,
          116200.84,
          136354.16,
          110191.36,
          160275.6,
          261035.96,
          172186.8,
          148328.32,
          108646.16,
          106853.6,
          194260.44,
          183670.12,
          200606.04,
          153623.84,
          195418.28,
          137111.72,
          107685.24,
          140967.48,
          271695.24,
          190576.76,
          144676.9,
          117886.81,
          197566.39,
          119331.34,
          106521.26,
          122944.02,
          137696.48,
          227362.64,
          117066.8,
          198275.76,
          171113.88,
          105700,
          107917.75,
          206311.24,
          137613.4,
          194836.48,
          116824.4,
          218075,
          192495.72,
          192426.04,
          180930.28,
          126959.44,
          138992.72,
          240556.32,
          122999.04,
          158281.64,
          190404.96,
          144397.64,
          201748.2,
          179399.64,
          183472.08,
          137317.72,
          133261,
          194593.88,
          175559.2,
          161100.48,
          110939.12,
          184029.8,
          163940.16,
          200737.72,
          125000.02,
          186423.64,
          163029.56,
          166529.36,
          110158.23,
          138708.44,
          117357.6,
          192247.96,
          173610.64,
          105793.12,
          117817.87,
          122472.5,
          154072.96,
          118442.96,
          155100.2,
          183429.68,
          109507.8,
          235941.85,
          187105,
          134505.92,
          192299.92,
          148661.48,
          135024.08,
          248582.16,
          126176.02,
          153368.44
         ],
         "xaxis": "x",
         "yaxis": "y"
        }
       ],
       "layout": {
        "barmode": "relative",
        "legend": {
         "tracegroupgap": 0
        },
        "template": {
         "data": {
          "bar": [
           {
            "error_x": {
             "color": "#2a3f5f"
            },
            "error_y": {
             "color": "#2a3f5f"
            },
            "marker": {
             "line": {
              "color": "#E5ECF6",
              "width": 0.5
             }
            },
            "type": "bar"
           }
          ],
          "barpolar": [
           {
            "marker": {
             "line": {
              "color": "#E5ECF6",
              "width": 0.5
             }
            },
            "type": "barpolar"
           }
          ],
          "carpet": [
           {
            "aaxis": {
             "endlinecolor": "#2a3f5f",
             "gridcolor": "white",
             "linecolor": "white",
             "minorgridcolor": "white",
             "startlinecolor": "#2a3f5f"
            },
            "baxis": {
             "endlinecolor": "#2a3f5f",
             "gridcolor": "white",
             "linecolor": "white",
             "minorgridcolor": "white",
             "startlinecolor": "#2a3f5f"
            },
            "type": "carpet"
           }
          ],
          "choropleth": [
           {
            "colorbar": {
             "outlinewidth": 0,
             "ticks": ""
            },
            "type": "choropleth"
           }
          ],
          "contour": [
           {
            "colorbar": {
             "outlinewidth": 0,
             "ticks": ""
            },
            "colorscale": [
             [
              0,
              "#0d0887"
             ],
             [
              0.1111111111111111,
              "#46039f"
             ],
             [
              0.2222222222222222,
              "#7201a8"
             ],
             [
              0.3333333333333333,
              "#9c179e"
             ],
             [
              0.4444444444444444,
              "#bd3786"
             ],
             [
              0.5555555555555556,
              "#d8576b"
             ],
             [
              0.6666666666666666,
              "#ed7953"
             ],
             [
              0.7777777777777778,
              "#fb9f3a"
             ],
             [
              0.8888888888888888,
              "#fdca26"
             ],
             [
              1,
              "#f0f921"
             ]
            ],
            "type": "contour"
           }
          ],
          "contourcarpet": [
           {
            "colorbar": {
             "outlinewidth": 0,
             "ticks": ""
            },
            "type": "contourcarpet"
           }
          ],
          "heatmap": [
           {
            "colorbar": {
             "outlinewidth": 0,
             "ticks": ""
            },
            "colorscale": [
             [
              0,
              "#0d0887"
             ],
             [
              0.1111111111111111,
              "#46039f"
             ],
             [
              0.2222222222222222,
              "#7201a8"
             ],
             [
              0.3333333333333333,
              "#9c179e"
             ],
             [
              0.4444444444444444,
              "#bd3786"
             ],
             [
              0.5555555555555556,
              "#d8576b"
             ],
             [
              0.6666666666666666,
              "#ed7953"
             ],
             [
              0.7777777777777778,
              "#fb9f3a"
             ],
             [
              0.8888888888888888,
              "#fdca26"
             ],
             [
              1,
              "#f0f921"
             ]
            ],
            "type": "heatmap"
           }
          ],
          "heatmapgl": [
           {
            "colorbar": {
             "outlinewidth": 0,
             "ticks": ""
            },
            "colorscale": [
             [
              0,
              "#0d0887"
             ],
             [
              0.1111111111111111,
              "#46039f"
             ],
             [
              0.2222222222222222,
              "#7201a8"
             ],
             [
              0.3333333333333333,
              "#9c179e"
             ],
             [
              0.4444444444444444,
              "#bd3786"
             ],
             [
              0.5555555555555556,
              "#d8576b"
             ],
             [
              0.6666666666666666,
              "#ed7953"
             ],
             [
              0.7777777777777778,
              "#fb9f3a"
             ],
             [
              0.8888888888888888,
              "#fdca26"
             ],
             [
              1,
              "#f0f921"
             ]
            ],
            "type": "heatmapgl"
           }
          ],
          "histogram": [
           {
            "marker": {
             "colorbar": {
              "outlinewidth": 0,
              "ticks": ""
             }
            },
            "type": "histogram"
           }
          ],
          "histogram2d": [
           {
            "colorbar": {
             "outlinewidth": 0,
             "ticks": ""
            },
            "colorscale": [
             [
              0,
              "#0d0887"
             ],
             [
              0.1111111111111111,
              "#46039f"
             ],
             [
              0.2222222222222222,
              "#7201a8"
             ],
             [
              0.3333333333333333,
              "#9c179e"
             ],
             [
              0.4444444444444444,
              "#bd3786"
             ],
             [
              0.5555555555555556,
              "#d8576b"
             ],
             [
              0.6666666666666666,
              "#ed7953"
             ],
             [
              0.7777777777777778,
              "#fb9f3a"
             ],
             [
              0.8888888888888888,
              "#fdca26"
             ],
             [
              1,
              "#f0f921"
             ]
            ],
            "type": "histogram2d"
           }
          ],
          "histogram2dcontour": [
           {
            "colorbar": {
             "outlinewidth": 0,
             "ticks": ""
            },
            "colorscale": [
             [
              0,
              "#0d0887"
             ],
             [
              0.1111111111111111,
              "#46039f"
             ],
             [
              0.2222222222222222,
              "#7201a8"
             ],
             [
              0.3333333333333333,
              "#9c179e"
             ],
             [
              0.4444444444444444,
              "#bd3786"
             ],
             [
              0.5555555555555556,
              "#d8576b"
             ],
             [
              0.6666666666666666,
              "#ed7953"
             ],
             [
              0.7777777777777778,
              "#fb9f3a"
             ],
             [
              0.8888888888888888,
              "#fdca26"
             ],
             [
              1,
              "#f0f921"
             ]
            ],
            "type": "histogram2dcontour"
           }
          ],
          "mesh3d": [
           {
            "colorbar": {
             "outlinewidth": 0,
             "ticks": ""
            },
            "type": "mesh3d"
           }
          ],
          "parcoords": [
           {
            "line": {
             "colorbar": {
              "outlinewidth": 0,
              "ticks": ""
             }
            },
            "type": "parcoords"
           }
          ],
          "pie": [
           {
            "automargin": true,
            "type": "pie"
           }
          ],
          "scatter": [
           {
            "marker": {
             "colorbar": {
              "outlinewidth": 0,
              "ticks": ""
             }
            },
            "type": "scatter"
           }
          ],
          "scatter3d": [
           {
            "line": {
             "colorbar": {
              "outlinewidth": 0,
              "ticks": ""
             }
            },
            "marker": {
             "colorbar": {
              "outlinewidth": 0,
              "ticks": ""
             }
            },
            "type": "scatter3d"
           }
          ],
          "scattercarpet": [
           {
            "marker": {
             "colorbar": {
              "outlinewidth": 0,
              "ticks": ""
             }
            },
            "type": "scattercarpet"
           }
          ],
          "scattergeo": [
           {
            "marker": {
             "colorbar": {
              "outlinewidth": 0,
              "ticks": ""
             }
            },
            "type": "scattergeo"
           }
          ],
          "scattergl": [
           {
            "marker": {
             "colorbar": {
              "outlinewidth": 0,
              "ticks": ""
             }
            },
            "type": "scattergl"
           }
          ],
          "scattermapbox": [
           {
            "marker": {
             "colorbar": {
              "outlinewidth": 0,
              "ticks": ""
             }
            },
            "type": "scattermapbox"
           }
          ],
          "scatterpolar": [
           {
            "marker": {
             "colorbar": {
              "outlinewidth": 0,
              "ticks": ""
             }
            },
            "type": "scatterpolar"
           }
          ],
          "scatterpolargl": [
           {
            "marker": {
             "colorbar": {
              "outlinewidth": 0,
              "ticks": ""
             }
            },
            "type": "scatterpolargl"
           }
          ],
          "scatterternary": [
           {
            "marker": {
             "colorbar": {
              "outlinewidth": 0,
              "ticks": ""
             }
            },
            "type": "scatterternary"
           }
          ],
          "surface": [
           {
            "colorbar": {
             "outlinewidth": 0,
             "ticks": ""
            },
            "colorscale": [
             [
              0,
              "#0d0887"
             ],
             [
              0.1111111111111111,
              "#46039f"
             ],
             [
              0.2222222222222222,
              "#7201a8"
             ],
             [
              0.3333333333333333,
              "#9c179e"
             ],
             [
              0.4444444444444444,
              "#bd3786"
             ],
             [
              0.5555555555555556,
              "#d8576b"
             ],
             [
              0.6666666666666666,
              "#ed7953"
             ],
             [
              0.7777777777777778,
              "#fb9f3a"
             ],
             [
              0.8888888888888888,
              "#fdca26"
             ],
             [
              1,
              "#f0f921"
             ]
            ],
            "type": "surface"
           }
          ],
          "table": [
           {
            "cells": {
             "fill": {
              "color": "#EBF0F8"
             },
             "line": {
              "color": "white"
             }
            },
            "header": {
             "fill": {
              "color": "#C8D4E3"
             },
             "line": {
              "color": "white"
             }
            },
            "type": "table"
           }
          ]
         },
         "layout": {
          "annotationdefaults": {
           "arrowcolor": "#2a3f5f",
           "arrowhead": 0,
           "arrowwidth": 1
          },
          "autotypenumbers": "strict",
          "coloraxis": {
           "colorbar": {
            "outlinewidth": 0,
            "ticks": ""
           }
          },
          "colorscale": {
           "diverging": [
            [
             0,
             "#8e0152"
            ],
            [
             0.1,
             "#c51b7d"
            ],
            [
             0.2,
             "#de77ae"
            ],
            [
             0.3,
             "#f1b6da"
            ],
            [
             0.4,
             "#fde0ef"
            ],
            [
             0.5,
             "#f7f7f7"
            ],
            [
             0.6,
             "#e6f5d0"
            ],
            [
             0.7,
             "#b8e186"
            ],
            [
             0.8,
             "#7fbc41"
            ],
            [
             0.9,
             "#4d9221"
            ],
            [
             1,
             "#276419"
            ]
           ],
           "sequential": [
            [
             0,
             "#0d0887"
            ],
            [
             0.1111111111111111,
             "#46039f"
            ],
            [
             0.2222222222222222,
             "#7201a8"
            ],
            [
             0.3333333333333333,
             "#9c179e"
            ],
            [
             0.4444444444444444,
             "#bd3786"
            ],
            [
             0.5555555555555556,
             "#d8576b"
            ],
            [
             0.6666666666666666,
             "#ed7953"
            ],
            [
             0.7777777777777778,
             "#fb9f3a"
            ],
            [
             0.8888888888888888,
             "#fdca26"
            ],
            [
             1,
             "#f0f921"
            ]
           ],
           "sequentialminus": [
            [
             0,
             "#0d0887"
            ],
            [
             0.1111111111111111,
             "#46039f"
            ],
            [
             0.2222222222222222,
             "#7201a8"
            ],
            [
             0.3333333333333333,
             "#9c179e"
            ],
            [
             0.4444444444444444,
             "#bd3786"
            ],
            [
             0.5555555555555556,
             "#d8576b"
            ],
            [
             0.6666666666666666,
             "#ed7953"
            ],
            [
             0.7777777777777778,
             "#fb9f3a"
            ],
            [
             0.8888888888888888,
             "#fdca26"
            ],
            [
             1,
             "#f0f921"
            ]
           ]
          },
          "colorway": [
           "#636efa",
           "#EF553B",
           "#00cc96",
           "#ab63fa",
           "#FFA15A",
           "#19d3f3",
           "#FF6692",
           "#B6E880",
           "#FF97FF",
           "#FECB52"
          ],
          "font": {
           "color": "#2a3f5f"
          },
          "geo": {
           "bgcolor": "white",
           "lakecolor": "white",
           "landcolor": "#E5ECF6",
           "showlakes": true,
           "showland": true,
           "subunitcolor": "white"
          },
          "hoverlabel": {
           "align": "left"
          },
          "hovermode": "closest",
          "mapbox": {
           "style": "light"
          },
          "paper_bgcolor": "white",
          "plot_bgcolor": "#E5ECF6",
          "polar": {
           "angularaxis": {
            "gridcolor": "white",
            "linecolor": "white",
            "ticks": ""
           },
           "bgcolor": "#E5ECF6",
           "radialaxis": {
            "gridcolor": "white",
            "linecolor": "white",
            "ticks": ""
           }
          },
          "scene": {
           "xaxis": {
            "backgroundcolor": "#E5ECF6",
            "gridcolor": "white",
            "gridwidth": 2,
            "linecolor": "white",
            "showbackground": true,
            "ticks": "",
            "zerolinecolor": "white"
           },
           "yaxis": {
            "backgroundcolor": "#E5ECF6",
            "gridcolor": "white",
            "gridwidth": 2,
            "linecolor": "white",
            "showbackground": true,
            "ticks": "",
            "zerolinecolor": "white"
           },
           "zaxis": {
            "backgroundcolor": "#E5ECF6",
            "gridcolor": "white",
            "gridwidth": 2,
            "linecolor": "white",
            "showbackground": true,
            "ticks": "",
            "zerolinecolor": "white"
           }
          },
          "shapedefaults": {
           "line": {
            "color": "#2a3f5f"
           }
          },
          "ternary": {
           "aaxis": {
            "gridcolor": "white",
            "linecolor": "white",
            "ticks": ""
           },
           "baxis": {
            "gridcolor": "white",
            "linecolor": "white",
            "ticks": ""
           },
           "bgcolor": "#E5ECF6",
           "caxis": {
            "gridcolor": "white",
            "linecolor": "white",
            "ticks": ""
           }
          },
          "title": {
           "x": 0.05
          },
          "xaxis": {
           "automargin": true,
           "gridcolor": "white",
           "linecolor": "white",
           "ticks": "",
           "title": {
            "standoff": 15
           },
           "zerolinecolor": "white",
           "zerolinewidth": 2
          },
          "yaxis": {
           "automargin": true,
           "gridcolor": "white",
           "linecolor": "white",
           "ticks": "",
           "title": {
            "standoff": 15
           },
           "zerolinecolor": "white",
           "zerolinewidth": 2
          }
         }
        },
        "title": {
         "text": "Overall Salary Distribution"
        },
        "xaxis": {
         "anchor": "y",
         "domain": [
          0,
          1
         ],
         "title": {
          "text": "Salary"
         }
        },
        "yaxis": {
         "anchor": "x",
         "domain": [
          0,
          1
         ],
         "title": {
          "text": "count"
         }
        }
       }
      }
     },
     "metadata": {},
     "output_type": "display_data"
    }
   ],
   "source": [
    "px.histogram(df.Salary, x='Salary',\n",
    "             color_discrete_sequence=['darkgreen'],\n",
    "             title = 'Overall Salary Distribution', nbins=120)"
   ]
  },
  {
   "cell_type": "markdown",
   "id": "97749eb1",
   "metadata": {},
   "source": [
    "As we can see from the plot above, the majority of salaries fall in the `$100,000 to $227,500` range. "
   ]
  },
  {
   "cell_type": "markdown",
   "id": "662b6c8a",
   "metadata": {},
   "source": [
    "#### Teaching vs Non-Teaching Staff Salaries\n"
   ]
  },
  {
   "cell_type": "code",
   "execution_count": 466,
   "id": "6a504cce",
   "metadata": {},
   "outputs": [
    {
     "data": {
      "text/plain": [
       "Text(0.5, 1.0, 'Teaching vs Non-Teaching Staff Salaries')"
      ]
     },
     "execution_count": 466,
     "metadata": {},
     "output_type": "execute_result"
    },
    {
     "data": {
      "image/png": "[encoded data removed]",
      "text/plain": [
       "<Figure size 432x288 with 1 Axes>"
      ]
     },
     "metadata": {
      "needs_background": "light"
     },
     "output_type": "display_data"
    }
   ],
   "source": [
    "plt.hist(df_profs['Salary'], alpha=0.7,\n",
    "         label='Teaching Staff Salaries', color='crimson', bins=40)\n",
    "plt.hist(df_nt['Salary'], alpha=0.6,\n",
    "         label='Non-Teaching Staff Salaries', color='cadetblue', bins=40)\n",
    "\n",
    "plt.legend(loc='upper right')\n",
    "plt.title('Teaching vs Non-Teaching Staff Salaries')"
   ]
  },
  {
   "cell_type": "code",
   "execution_count": 467,
   "id": "1af89a50",
   "metadata": {},
   "outputs": [
    {
     "name": "stdout",
     "output_type": "stream",
     "text": [
      "Teaching Staff Average Salary:  158976.28\n",
      "Teaching Staff Standard Deviation: 41849.27\n",
      "Teaching Staff Interquartile Range:  62425.31\n",
      "\n",
      "Non-Teaching Staff Average Salary:  127680.77\n",
      "Non-Teaching Staff Standard Deviation: 39683.55\n",
      "Non-Teaching Staff Interquartile Range:  24077.25\n"
     ]
    }
   ],
   "source": [
    "prof_avg = round(df_profs.Salary.mean(), 2)\n",
    "prof_std = round(df_profs['Salary'].std(), 2)\n",
    "iqr_profs = iqr(df_profs['Salary'])\n",
    "nt_avg = round(df_nt.Salary.mean(), 2)\n",
    "nt_std = round(df_nt['Salary'].std(), 2)\n",
    "iqr_nt = round(iqr(df_nt['Salary']), 2)\n",
    "\n",
    "print(\"Teaching Staff Average Salary: \", avg_sal)\n",
    "print(\"Teaching Staff Standard Deviation:\", prof_std)\n",
    "print('Teaching Staff Interquartile Range: ', iqr_profs)\n",
    "print()\n",
    "print(\"Non-Teaching Staff Average Salary: \", nt_avg)\n",
    "print(\"Non-Teaching Staff Standard Deviation:\", nt_std)\n",
    "print('Non-Teaching Staff Interquartile Range: ', iqr_nt)"
   ]
  },
  {
   "cell_type": "markdown",
   "id": "b7dcd5d6",
   "metadata": {},
   "source": [
    "The standard deviation of the teaching and non-teaching staff is somewhat similar. <br>\n",
    "However, the interquartile range is very different. This means that salaries for teaching staff is far more spread out than those for non-teaching staff, and as we can see from the $30,000+ difference in the average salary, that spreading out is mostly in the higher figures."
   ]
  },
  {
   "cell_type": "markdown",
   "id": "c70e7e14",
   "metadata": {},
   "source": [
    "## Predictive Modeling for Salary Determination"
   ]
  },
  {
   "cell_type": "code",
   "execution_count": 468,
   "id": "f906d9f3",
   "metadata": {},
   "outputs": [],
   "source": [
    "import numpy as np\n",
    "import pandas as pd\n",
    "import matplotlib.pyplot as plt\n",
    "import seaborn as sns\n",
    "from sklearn.model_selection import train_test_split\n",
    "from sklearn.linear_model import LinearRegression\n",
    "from sklearn.metrics import mean_squared_error, r2_score"
   ]
  },
  {
   "cell_type": "markdown",
   "id": "b7bd77a5",
   "metadata": {},
   "source": [
    "#### Splitting Data into Training and Testing Sets"
   ]
  },
  {
   "cell_type": "markdown",
   "id": "afc66abd",
   "metadata": {},
   "source": [
    "#### Building and Training the Model"
   ]
  },
  {
   "cell_type": "code",
   "execution_count": null,
   "id": "530aa65f",
   "metadata": {},
   "outputs": [],
   "source": []
  }
 ],
 "metadata": {
  "kernelspec": {
   "display_name": "base",
   "language": "python",
   "name": "python3"
  },
  "language_info": {
   "codemirror_mode": {
    "name": "ipython",
    "version": 3
   },
   "file_extension": ".py",
   "mimetype": "text/x-python",
   "name": "python",
   "nbconvert_exporter": "python",
   "pygments_lexer": "ipython3",
   "version": "3.8.5"
  },
  "vscode": {
   "interpreter": {
    "hash": "a6c1e39a976196035215af15cf86b9daecc55eecf36cec1b792903820e33210e"
   }
  }
 },
 "nbformat": 4,
 "nbformat_minor": 5
}
